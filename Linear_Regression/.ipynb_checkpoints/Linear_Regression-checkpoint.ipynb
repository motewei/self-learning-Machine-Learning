{
 "cells": [
  {
   "cell_type": "markdown",
   "metadata": {},
   "source": [
    "Using the `StandardScalar` class from the data processing toolkit `preprocessing` in `sklearn`  \n",
    "fit() function of the class computes the mean and variance from the input data and normalizes the data with the results to a mean of 0 and a variance of 1"
   ]
  },
  {
   "cell_type": "code",
   "execution_count": 2,
   "metadata": {
    "ExecuteTime": {
     "end_time": "2024-01-12T08:39:24.234745Z",
     "start_time": "2024-01-12T08:39:24.119332Z"
    }
   },
   "outputs": [
    {
     "name": "stdout",
     "output_type": "stream",
     "text": [
      "feature: Avg. Area Income,Avg. Area House Age,Avg. Area Number of Rooms,Avg. Area Number of Bedrooms,Area Population\n",
      "labels: Price\n",
      "total number of data entries: 5000\n"
     ]
    }
   ],
   "source": [
    "import numpy as np\n",
    "import matplotlib.pyplot as plt\n",
    "from matplotlib.ticker import MaxNLocator\n",
    "from sklearn.preprocessing import StandardScaler\n",
    "\n",
    "# Load the data, output the characteristics of the view data\n",
    "lines = np.loadtxt('USA_Housing.csv', delimiter=',', dtype='str')\n",
    "header = lines[0]\n",
    "lines = lines[1:].astype(float)\n",
    "print('feature:', ','.join(header[:-1]))\n",
    "print('labels:', header[-1])\n",
    "print('total number of data entries:', len(lines))\n",
    "\n",
    "# Divide train and test sets\n",
    "ratio = 0.8\n",
    "split = int(len(lines) * ratio)\n",
    "np.random.seed(0)\n",
    "lines = np.random.permutation(lines)\n",
    "train, test = lines[:split], lines[split:]\n",
    "\n",
    "# Normalization\n",
    "scaler = StandardScaler()\n",
    "scaler.fit(train) # only use data in train set to computes the mean and variance\n",
    "train = scaler.transform(train)\n",
    "test = scaler.transform(test)\n",
    "\n",
    "# Divide input and labels\n",
    "x_train, y_train = train[:,:-1], train[:, -1].flatten()\n",
    "x_test, y_test = test[:, :-1], test[:, -1].flatten()"
   ]
  },
  {
   "cell_type": "markdown",
   "metadata": {},
   "source": [
    "Use MSE as the loss function during training and RMSE(rooted mean squared error) as the evaluation metric for the model"
   ]
  },
  {
   "cell_type": "markdown",
   "metadata": {},
   "source": [
    "$$f_{\\theta}(X)=X\\theta = X(X^TX)^{-1}X^{T}y$$"
   ]
  },
  {
   "cell_type": "code",
   "execution_count": 9,
   "metadata": {
    "ExecuteTime": {
     "end_time": "2024-01-12T09:22:03.797910Z",
     "start_time": "2024-01-12T09:22:03.782317Z"
    }
   },
   "outputs": [
    {
     "name": "stdout",
     "output_type": "stream",
     "text": [
      "regression coefficient: [ 6.50881254e-01  4.67222833e-01  3.38466198e-01  6.17275856e-03\n",
      "  4.26857089e-01 -1.46033359e-14]\n",
      "RMSE: 0.28791834247503534\n"
     ]
    }
   ],
   "source": [
    "# Add a column 1 at the end of X matrix, represening the constant term\n",
    "X = np.concatenate([x_train, np.ones((len(x_train), 1))], axis=-1)\n",
    "# @Matrix multiplication, X T represents the transpose of matrix X, and the \n",
    "# np.final.inv function can calculate the inverse of the matrix\n",
    "theta = np.linalg.inv(X.T @ X) @ X.T @ y_train # np.linalg.inv(Compute the inverse of this product)\n",
    "print('regression coefficient:', theta)\n",
    "\n",
    "# Regression coefficient are used to make predictions on the test set\n",
    "X_test = np.concatenate([x_test, np.ones((len(x_test), 1))], axis=-1)\n",
    "y_pred = X_test @ theta\n",
    "\n",
    "# Calculate the RMSE between the predicted value and the true value\n",
    "rmse_loss = np.sqrt(np.square(y_test - y_pred).mean())\n",
    "print('RMSE:', rmse_loss)"
   ]
  },
  {
   "cell_type": "markdown",
   "metadata": {},
   "source": [
    "Use LinearRegression in sklearn"
   ]
  },
  {
   "cell_type": "code",
   "execution_count": 13,
   "metadata": {
    "ExecuteTime": {
     "end_time": "2024-01-12T09:38:56.086620Z",
     "start_time": "2024-01-12T09:38:56.072228Z"
    }
   },
   "outputs": [
    {
     "name": "stdout",
     "output_type": "stream",
     "text": [
      "Regression coefficient: [0.65088125 0.46722283 0.3384662  0.00617276 0.42685709] -1.4635041882766186e-14\n",
      "RMSE: 0.28791834247503534\n"
     ]
    }
   ],
   "source": [
    "from sklearn.linear_model import LinearRegression\n",
    "\n",
    "# Initializes the linear model\n",
    "linreg = LinearRegression()\n",
    "# LinearRegression的方法中已经考虑了线性回归的常数项，所以无须再拼接1\n",
    "linreg.fit(x_train, y_train)\n",
    "\n",
    "# coef_ is regression coefficient after train, intercept_ is constant terms\n",
    "print('Regression coefficient:', linreg.coef_, linreg.intercept_)\n",
    "y_pred = linreg.predict(x_test)\n",
    "\n",
    "# Calculate the RMSE between the predicted value and the true value\n",
    "rmse_loss = np.sqrt(np.square(y_test - y_pred).mean())\n",
    "print('RMSE:', rmse_loss)"
   ]
  },
  {
   "cell_type": "markdown",
   "metadata": {},
   "source": [
    "When involving a large number of matrix operations, the time cost is relatively high. We use gradient descent algorithm for numerical simulation to achieve numerical solutions with minimal error compared to analytical solutions.\n",
    "In gradient descent, small batch random gradient descent, abbreviated as MBGD, is commonly used."
   ]
  },
  {
   "cell_type": "code",
   "execution_count": 22,
   "metadata": {
    "ExecuteTime": {
     "end_time": "2024-01-12T13:39:24.286869Z",
     "start_time": "2024-01-12T13:39:24.266896Z"
    },
    "collapsed": true
   },
   "outputs": [],
   "source": [
    "# This function return a batch size of batch at a time\n",
    "# x is input, y is label\n",
    "# if shuffle == True: each traversal redivides the data randomly\n",
    "def batch_generator(x, y, batch_size, shuffle=True):\n",
    "    # Batch counter\n",
    "    batch_count = 0\n",
    "    if shuffle:\n",
    "        # Randomly generate subscripts of 0 to len(x) - 1\n",
    "        idx = np.random.permutation(len(x))\n",
    "        x = x[idx]\n",
    "        y = y[idx]\n",
    "    while True:\n",
    "        start = batch_count * batch_size\n",
    "        end = min(start + batch_size, len(x))\n",
    "        if start >= end:\n",
    "            break\n",
    "        batch_count += 1\n",
    "        yield x[start: end], y[start: end]"
   ]
  },
  {
   "cell_type": "code",
   "execution_count": 25,
   "metadata": {
    "ExecuteTime": {
     "end_time": "2024-01-12T13:40:47.517823Z",
     "start_time": "2024-01-12T13:40:47.028835Z"
    },
    "scrolled": false
   },
   "outputs": [
    {
     "name": "stdout",
     "output_type": "stream",
     "text": [
      "Regression coefficient: [ 0.65357756  0.46682964  0.33885411  0.00720843  0.42751035 -0.00273407]\n"
     ]
    },
    {
     "data": {
      "image/png": "[encoded data removed]",
      "text/plain": [
       "<Figure size 640x480 with 1 Axes>"
      ]
     },
     "metadata": {},
     "output_type": "display_data"
    }
   ],
   "source": [
    "def SGD(num_epoch, learning_rate, batch_size):\n",
    "    # Splice the original matrix\n",
    "    X = np.concatenate([x_train, np.ones((len(x_train), 1))], axis=-1)\n",
    "    X_test = np.concatenate([x_test, np.ones((len(x_test), 1))], axis=-1)\n",
    "    # Random initialization parameters\n",
    "    theta = np.random.normal(size=X.shape[1])\n",
    "    \n",
    "    # SGD\n",
    "    train_losses = []\n",
    "    test_losses = []\n",
    "    for i in range(num_epoch):\n",
    "        # Initializes batch generator\n",
    "        batch_g = batch_generator(X, y_train, batch_size, shuffle=True)\n",
    "        train_loss = 0\n",
    "        for x_batch, y_batch in batch_g:\n",
    "            # calculate gradient\n",
    "            grad = x_batch.T @ (x_batch @ theta - y_batch)\n",
    "            # updata parameters\n",
    "            theta = theta  - learning_rate * grad / len(x_batch)\n",
    "            # cumulative square error\n",
    "            train_loss += np.square(x_batch @ theta - y_batch).sum()\n",
    "        # calculate train_loss and test_loss\n",
    "        train_loss = np.sqrt(train_loss / len(X))\n",
    "        train_losses.append(train_loss)\n",
    "        test_loss = np.sqrt(np.square(X_test @ theta - y_test).mean())\n",
    "        test_losses.append(test_loss)\n",
    "        \n",
    "    print('Regression coefficient:', theta)\n",
    "    return theta, train_losses, test_losses\n",
    "\n",
    "\n",
    "num_epoch = 20\n",
    "learning_rate = 0.01\n",
    "batch_size = 32\n",
    "np.random.seed(0)\n",
    "\n",
    "_, train_losses, test_losses = SGD(num_epoch, learning_rate, batch_size)\n",
    "\n",
    "# Charting the relationship between the loss function and the running times\n",
    "# Can see the loss function keeps decreasing at first and the tends to be stable\n",
    "plt.plot(np.arange(num_epoch), train_losses, color='blue', label='train loss')\n",
    "plt.plot(np.arange(num_epoch), test_losses, color='red', ls='--', label='test loss')\n",
    "\n",
    "plt.gca().xaxis.set_major_locator(MaxNLocator(integer=True))\n",
    "plt.xlabel('Epoch')\n",
    "plt.ylabel('RMSE')\n",
    "plt.legend()\n",
    "plt.show()"
   ]
  },
  {
   "cell_type": "code",
   "execution_count": null,
   "metadata": {
    "collapsed": true
   },
   "outputs": [],
   "source": []
  }
 ],
 "metadata": {
  "kernelspec": {
   "display_name": "Python [conda env:d2l]",
   "language": "python",
   "name": "conda-env-d2l-py"
  },
  "language_info": {
   "codemirror_mode": {
    "name": "ipython",
    "version": 3
   },
   "file_extension": ".py",
   "mimetype": "text/x-python",
   "name": "python",
   "nbconvert_exporter": "python",
   "pygments_lexer": "ipython3",
   "version": "3.9.18"
  },
  "toc": {
   "base_numbering": 1,
   "nav_menu": {},
   "number_sections": true,
   "sideBar": true,
   "skip_h1_title": false,
   "title_cell": "Table of Contents",
   "title_sidebar": "Contents",
   "toc_cell": false,
   "toc_position": {},
   "toc_section_display": true,
   "toc_window_display": false
  }
 },
 "nbformat": 4,
 "nbformat_minor": 2
}
