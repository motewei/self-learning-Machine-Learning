{
 "cells": [
  {
   "cell_type": "code",
   "execution_count": null,
   "metadata": {
    "collapsed": true
   },
   "outputs": [],
   "source": [
    "from PIL import Image\n",
    "\n",
    "def convert_to_grayscale(input_path, output_path):\n",
    "    # 打开彩色图片\n",
    "    original_image = Image.open(input_path)\n",
    "\n",
    "    # 转换为黑白图片\n",
    "    grayscale_image = original_image.convert(\"L\")\n",
    "\n",
    "    # 保存黑白图片\n",
    "    grayscale_image.save(output_path)\n",
    "\n",
    "# 示例用法\n",
    "input_image_path = \"path/to/your/color/image.jpg\"\n",
    "output_image_path = \"path/to/save/grayscale/image.jpg\"\n",
    "\n",
    "convert_to_grayscale(input_image_path, output_image_path)\n"
   ]
  }
 ],
 "metadata": {
  "kernelspec": {
   "display_name": "Python [conda env:d2l]",
   "language": "python",
   "name": "conda-env-d2l-py"
  },
  "language_info": {
   "codemirror_mode": {
    "name": "ipython",
    "version": 3
   },
   "file_extension": ".py",
   "mimetype": "text/x-python",
   "name": "python",
   "nbconvert_exporter": "python",
   "pygments_lexer": "ipython3",
   "version": "3.9.18"
  },
  "toc": {
   "base_numbering": 1,
   "nav_menu": {},
   "number_sections": true,
   "sideBar": true,
   "skip_h1_title": false,
   "title_cell": "Table of Contents",
   "title_sidebar": "Contents",
   "toc_cell": false,
   "toc_position": {},
   "toc_section_display": true,
   "toc_window_display": false
  }
 },
 "nbformat": 4,
 "nbformat_minor": 2
}
