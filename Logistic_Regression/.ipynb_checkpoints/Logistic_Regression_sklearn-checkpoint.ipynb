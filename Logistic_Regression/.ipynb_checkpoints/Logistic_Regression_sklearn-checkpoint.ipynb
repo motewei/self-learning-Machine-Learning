{
 "cells": [
  {
   "cell_type": "markdown",
   "metadata": {},
   "source": [
    "sklearn providers a packaged logistic regression model named `LogisticRegression`. We use this tool and compare it with our own gradient descent method.\n",
    "The methods in sklearn add regular coefficient consttaints  $L_2 \\lambda=1.0$ by default.    "
   ]
  },
  {
   "cell_type": "code",
   "execution_count": 2,
   "metadata": {
    "ExecuteTime": {
     "end_time": "2024-01-16T09:19:58.247950Z",
     "start_time": "2024-01-16T09:19:58.226949Z"
    }
   },
   "outputs": [],
   "source": [
    "from sklearn.linear_model import LogisticRegression\n",
    "import numpy as np\n",
    "\n",
    "# load dataset and divide it\n",
    "lines = np.loadtxt('lr_dataset.csv', delimiter=',', dtype=float)\n",
    "x_total = lines[:, 0:2]\n",
    "y_total = lines[:, 2]\n",
    "\n",
    "np.random.seed(0)\n",
    "ratio = 0.7\n",
    "split = int(len(x_total) * ratio)\n",
    "idx = np.random.permutation(len(x_total))\n",
    "x_total = x_total[idx]\n",
    "y_total = y_total[idx]\n",
    "x_train, y_train = x_total[:split], y_total[:split]\n",
    "x_test, y_test = x_total[split:], y_total[split:]"
   ]
  },
  {
   "cell_type": "code",
   "execution_count": 3,
   "metadata": {
    "ExecuteTime": {
     "end_time": "2024-01-16T09:19:59.015820Z",
     "start_time": "2024-01-16T09:19:58.992647Z"
    }
   },
   "outputs": [
    {
     "name": "stdout",
     "output_type": "stream",
     "text": [
      "Regression coefficient: [3.14129907 2.91620111] [0.5518978]\n",
      "Accuracy: 0.8766666666666667\n"
     ]
    }
   ],
   "source": [
    "lr_clf = LogisticRegression(solver='liblinear')\n",
    "lr_clf.fit(x_train, y_train)\n",
    "print('Regression coefficient:', lr_clf.coef_[0], lr_clf.intercept_)\n",
    "\n",
    "y_pred = lr_clf.predict(x_test)\n",
    "print('Accuracy:', np.mean(y_pred == y_test))"
   ]
  },
  {
   "cell_type": "code",
   "execution_count": null,
   "metadata": {
    "collapsed": true
   },
   "outputs": [],
   "source": []
  }
 ],
 "metadata": {
  "kernelspec": {
   "display_name": "Python [conda env:d2l]",
   "language": "python",
   "name": "conda-env-d2l-py"
  },
  "language_info": {
   "codemirror_mode": {
    "name": "ipython",
    "version": 3
   },
   "file_extension": ".py",
   "mimetype": "text/x-python",
   "name": "python",
   "nbconvert_exporter": "python",
   "pygments_lexer": "ipython3",
   "version": "3.9.18"
  },
  "toc": {
   "base_numbering": 1,
   "nav_menu": {},
   "number_sections": true,
   "sideBar": true,
   "skip_h1_title": false,
   "title_cell": "Table of Contents",
   "title_sidebar": "Contents",
   "toc_cell": false,
   "toc_position": {},
   "toc_section_display": true,
   "toc_window_display": false
  }
 },
 "nbformat": 4,
 "nbformat_minor": 2
}
